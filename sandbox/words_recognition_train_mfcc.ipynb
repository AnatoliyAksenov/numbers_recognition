{
 "cells": [
  {
   "cell_type": "code",
   "execution_count": 1,
   "metadata": {},
   "outputs": [],
   "source": [
    "import os"
   ]
  },
  {
   "cell_type": "code",
   "execution_count": 2,
   "metadata": {},
   "outputs": [],
   "source": [
    "os.environ[\"CUDA_VISIBLE_DEVICES\"] = \"0\""
   ]
  },
  {
   "cell_type": "code",
   "execution_count": 3,
   "metadata": {},
   "outputs": [
    {
     "name": "stderr",
     "output_type": "stream",
     "text": [
      "Using TensorFlow backend.\n"
     ]
    }
   ],
   "source": [
    "import os\n",
    "import glob\n",
    "import re\n",
    "\n",
    "from keras.models import Sequential\n",
    "from keras.layers import Dense\n",
    "from keras.layers import LSTM\n",
    "from keras.layers.convolutional import Conv1D\n",
    "from keras.layers.convolutional import Conv2D\n",
    "from keras.layers.convolutional import MaxPooling1D\n",
    "from keras.layers.convolutional import MaxPooling2D\n",
    "from keras.layers.embeddings import Embedding\n",
    "from keras.layers import Dropout\n",
    "from keras.layers import Flatten\n",
    "from keras.layers import Input\n",
    "from keras.preprocessing import sequence"
   ]
  },
  {
   "cell_type": "code",
   "execution_count": 4,
   "metadata": {},
   "outputs": [],
   "source": [
    "from keras import backend as K"
   ]
  },
  {
   "cell_type": "code",
   "execution_count": 5,
   "metadata": {},
   "outputs": [
    {
     "data": {
      "text/plain": [
       "['/job:localhost/replica:0/task:0/device:GPU:0']"
      ]
     },
     "execution_count": 5,
     "metadata": {},
     "output_type": "execute_result"
    }
   ],
   "source": [
    "K.tensorflow_backend._get_available_gpus()"
   ]
  },
  {
   "cell_type": "code",
   "execution_count": 6,
   "metadata": {},
   "outputs": [],
   "source": [
    "path = './train/audio/'"
   ]
  },
  {
   "cell_type": "code",
   "execution_count": 7,
   "metadata": {},
   "outputs": [],
   "source": [
    "os.chdir(path)"
   ]
  },
  {
   "cell_type": "code",
   "execution_count": 9,
   "metadata": {},
   "outputs": [
    {
     "name": "stdout",
     "output_type": "stream",
     "text": [
      "Collecting librosa\n",
      "\u001b[?25l  Downloading https://files.pythonhosted.org/packages/09/b4/5b411f19de48f8fc1a0ff615555aa9124952e4156e94d4803377e50cfa4c/librosa-0.6.2.tar.gz (1.6MB)\n",
      "\u001b[K    100% |################################| 1.6MB 6.3MB/s eta 0:00:01    17% |#####                           | 266kB 2.2MB/s eta 0:00:01\n",
      "\u001b[?25hCollecting audioread>=2.0.0 (from librosa)\n",
      "  Downloading https://files.pythonhosted.org/packages/f0/41/8cd160c6b2046b997d571a744a7f398f39e954a62dd747b2aae1ad7f07d4/audioread-2.1.6.tar.gz\n",
      "Requirement already satisfied: numpy>=1.8.0 in /usr/local/lib/python3.5/dist-packages (from librosa) (1.15.2)\n",
      "Requirement already satisfied: scipy>=0.14.0 in /usr/local/lib/python3.5/dist-packages (from librosa) (1.1.0)\n",
      "Requirement already satisfied: scikit-learn!=0.19.0,>=0.14.0 in /usr/local/lib/python3.5/dist-packages (from librosa) (0.19.2)\n",
      "Collecting joblib>=0.12 (from librosa)\n",
      "\u001b[?25l  Downloading https://files.pythonhosted.org/packages/69/91/d217cec1fe6eac525ca964cd67e4f79b1d4ce68b64cb82d0b9ae1af2311e/joblib-0.12.5-py2.py3-none-any.whl (275kB)\n",
      "\u001b[K    100% |################################| 276kB 29.5MB/s ta 0:00:01\n",
      "\u001b[?25hRequirement already satisfied: decorator>=3.0.0 in /usr/local/lib/python3.5/dist-packages (from librosa) (4.3.0)\n",
      "Requirement already satisfied: six>=1.3 in /usr/local/lib/python3.5/dist-packages (from librosa) (1.11.0)\n",
      "Collecting resampy>=0.2.0 (from librosa)\n",
      "\u001b[?25l  Downloading https://files.pythonhosted.org/packages/14/b6/66a06d85474190b50aee1a6c09cdc95bb405ac47338b27e9b21409da1760/resampy-0.2.1.tar.gz (322kB)\n",
      "\u001b[K    100% |################################| 327kB 29.9MB/s ta 0:00:01\n",
      "\u001b[?25hCollecting numba>=0.38.0 (from librosa)\n",
      "\u001b[?25l  Downloading https://files.pythonhosted.org/packages/3c/3f/a63776ed98617c3af6187c4955779a013ad9e2f36280415d23503366c1ba/numba-0.40.1-cp35-cp35m-manylinux1_x86_64.whl (3.2MB)\n",
      "\u001b[K    100% |################################| 3.2MB 9.0MB/s eta 0:00:01\n",
      "\u001b[?25hCollecting llvmlite>=0.25.0dev0 (from numba>=0.38.0->librosa)\n",
      "\u001b[?25l  Downloading https://files.pythonhosted.org/packages/c5/e6/9e0384bd16bacb94db48c65f995317715539befb9dbf409832573cb732dd/llvmlite-0.25.0-cp35-cp35m-manylinux1_x86_64.whl (16.1MB)\n",
      "\u001b[K    100% |################################| 16.1MB 1.2MB/s eta 0:00:01   27% |########                        | 4.4MB 50.2MB/s eta 0:00:01\n",
      "\u001b[?25hBuilding wheels for collected packages: librosa, audioread, resampy\n",
      "  Running setup.py bdist_wheel for librosa ... \u001b[?25ldone\n",
      "\u001b[?25h  Stored in directory: /root/.cache/pip/wheels/18/b8/10/f0f8f6ac60668a5cd75596cf14c25bb6b3ea1ecd815f058b7e\n",
      "  Running setup.py bdist_wheel for audioread ... \u001b[?25ldone\n",
      "\u001b[?25h  Stored in directory: /root/.cache/pip/wheels/53/02/90/7b5c4081b7470c550ab605f600bad237dde12a6b8999b11f50\n",
      "  Running setup.py bdist_wheel for resampy ... \u001b[?25ldone\n",
      "\u001b[?25h  Stored in directory: /root/.cache/pip/wheels/ff/4f/ed/2e6c676c23efe5394bb40ade50662e90eb46e29b48324c5f9b\n",
      "Successfully built librosa audioread resampy\n",
      "Installing collected packages: audioread, joblib, llvmlite, numba, resampy, librosa\n",
      "Successfully installed audioread-2.1.6 joblib-0.12.5 librosa-0.6.2 llvmlite-0.25.0 numba-0.40.1 resampy-0.2.1\n",
      "\u001b[33mYou are using pip version 18.0, however version 18.1 is available.\n",
      "You should consider upgrading via the 'pip install --upgrade pip' command.\u001b[0m\n"
     ]
    }
   ],
   "source": [
    "!pip install librosa"
   ]
  },
  {
   "cell_type": "code",
   "execution_count": 10,
   "metadata": {},
   "outputs": [],
   "source": [
    "import librosa\n",
    "\n",
    "import numpy as np\n",
    "\n",
    "import librosa.core\n",
    "import librosa.display\n",
    "import librosa.effects"
   ]
  },
  {
   "cell_type": "code",
   "execution_count": 11,
   "metadata": {},
   "outputs": [],
   "source": [
    "import math\n",
    "from keras import optimizers"
   ]
  },
  {
   "cell_type": "code",
   "execution_count": 12,
   "metadata": {},
   "outputs": [],
   "source": [
    "import keras\n",
    "import keras.utils\n",
    "import random\n",
    "import numpy.random\n",
    "import pickle"
   ]
  },
  {
   "cell_type": "code",
   "execution_count": 13,
   "metadata": {},
   "outputs": [],
   "source": [
    "import keras.preprocessing.text"
   ]
  },
  {
   "cell_type": "code",
   "execution_count": 14,
   "metadata": {},
   "outputs": [],
   "source": [
    "from random import shuffle\n",
    "from sklearn.model_selection import train_test_split"
   ]
  },
  {
   "cell_type": "code",
   "execution_count": 15,
   "metadata": {},
   "outputs": [],
   "source": [
    "labels = glob.glob('*')"
   ]
  },
  {
   "cell_type": "code",
   "execution_count": 16,
   "metadata": {},
   "outputs": [],
   "source": [
    "labels = [x for x in labels if not x.startswith(\"_\")]"
   ]
  },
  {
   "cell_type": "code",
   "execution_count": 17,
   "metadata": {},
   "outputs": [],
   "source": [
    "tokenizer = keras.preprocessing.text.Tokenizer(num_words=len(labels))"
   ]
  },
  {
   "cell_type": "code",
   "execution_count": 18,
   "metadata": {},
   "outputs": [],
   "source": [
    "tokenizer.fit_on_texts(labels)"
   ]
  },
  {
   "cell_type": "code",
   "execution_count": 19,
   "metadata": {},
   "outputs": [
    {
     "data": {
      "text/plain": [
       "30"
      ]
     },
     "execution_count": 19,
     "metadata": {},
     "output_type": "execute_result"
    }
   ],
   "source": [
    "len(labels)"
   ]
  },
  {
   "cell_type": "code",
   "execution_count": 20,
   "metadata": {},
   "outputs": [
    {
     "data": {
      "text/plain": [
       "30"
      ]
     },
     "execution_count": 20,
     "metadata": {},
     "output_type": "execute_result"
    }
   ],
   "source": [
    "len(tokenizer.texts_to_sequences(labels))"
   ]
  },
  {
   "cell_type": "code",
   "execution_count": null,
   "metadata": {},
   "outputs": [],
   "source": []
  },
  {
   "cell_type": "code",
   "execution_count": null,
   "metadata": {},
   "outputs": [],
   "source": []
  },
  {
   "cell_type": "code",
   "execution_count": 21,
   "metadata": {},
   "outputs": [],
   "source": [
    "files = glob.glob('./*/*.wav')\n",
    "        \n",
    "# ignore noises\n",
    "files = [x for x in files if not x.startswith(\"_\")]"
   ]
  },
  {
   "cell_type": "code",
   "execution_count": 22,
   "metadata": {},
   "outputs": [],
   "source": [
    "shuffle(files)"
   ]
  },
  {
   "cell_type": "code",
   "execution_count": 23,
   "metadata": {},
   "outputs": [],
   "source": [
    "X_train, X_test, y_train, y_test = train_test_split(files, files, test_size=.05)"
   ]
  },
  {
   "cell_type": "code",
   "execution_count": 24,
   "metadata": {},
   "outputs": [
    {
     "data": {
      "text/plain": [
       "(61484, 3237)"
      ]
     },
     "execution_count": 24,
     "metadata": {},
     "output_type": "execute_result"
    }
   ],
   "source": [
    "len(X_train), len(X_test)"
   ]
  },
  {
   "cell_type": "code",
   "execution_count": 25,
   "metadata": {},
   "outputs": [],
   "source": [
    "import matplotlib.pyplot as plt\n",
    "%matplotlib inline"
   ]
  },
  {
   "cell_type": "code",
   "execution_count": 37,
   "metadata": {},
   "outputs": [],
   "source": [
    "def mfcc(file):\n",
    "    data, fs = librosa.load(file, mono=True, sr=16e3)\n",
    "    trimed, index = librosa.effects.trim(data, top_db=29, frame_length=10)\n",
    "    # trimed = np.concatenate( (trimed, np.random.ranf(int(5e4) - len(trimed))/1e3), axis=0)\n",
    "    mfcc = librosa.feature.mfcc(trimed, sr=16e3)\n",
    "    #return mfcc.shape[1]\n",
    "    \n",
    "    pad_width = max_pad - mfcc.shape[1]\n",
    "    mfcc = np.pad(mfcc, pad_width=((0, 0), (0, pad_width)), mode='constant')\n",
    "    return mfcc.reshape((20,16,2))    "
   ]
  },
  {
   "cell_type": "code",
   "execution_count": 247,
   "metadata": {},
   "outputs": [],
   "source": [
    "def asis(file):\n",
    "    data, fs = librosa.load(file, mono=True, sr=44e3)\n",
    "    return data   "
   ]
  },
  {
   "cell_type": "code",
   "execution_count": 26,
   "metadata": {},
   "outputs": [],
   "source": [
    "def melspec(file):\n",
    "    data, fs = librosa.load(file, mono=True, sr=44e3)\n",
    "    D = np.abs(librosa.stft(data))**2\n",
    "    S = librosa.feature.melspectrogram(S=D)\n",
    "    return S.reshape(-1)"
   ]
  },
  {
   "cell_type": "code",
   "execution_count": 143,
   "metadata": {},
   "outputs": [
    {
     "data": {
      "text/plain": [
       "<matplotlib.axes._subplots.AxesSubplot at 0x7f2f80706160>"
      ]
     },
     "execution_count": 143,
     "metadata": {},
     "output_type": "execute_result"
    },
    {
     "data": {
      "image/png": "[encoded data removed]",
      "text/plain": [
       "<Figure size 432x288 with 1 Axes>"
      ]
     },
     "metadata": {},
     "output_type": "display_data"
    }
   ],
   "source": [
    "data, fs = librosa.load(files[10004], mono=True, sr=44e3)\n",
    "#s = librosa.feature.melspectrogram(y=data, sr=fs)\n",
    "\n",
    "D = np.abs(librosa.stft(data))**2\n",
    "S = librosa.feature.melspectrogram(S=D)\n",
    "\n",
    "librosa.display.specshow(S)"
   ]
  },
  {
   "cell_type": "code",
   "execution_count": 110,
   "metadata": {},
   "outputs": [],
   "source": [
    "data, fs = librosa.load(files[1], mono=True, sr=44e3)"
   ]
  },
  {
   "cell_type": "code",
   "execution_count": 156,
   "metadata": {},
   "outputs": [],
   "source": [
    "shp = [melspec(x) for x in files[1000:2050]]"
   ]
  },
  {
   "cell_type": "code",
   "execution_count": 159,
   "metadata": {},
   "outputs": [
    {
     "data": {
      "text/plain": [
       "45"
      ]
     },
     "execution_count": 159,
     "metadata": {},
     "output_type": "execute_result"
    }
   ],
   "source": [
    "min([x[1] for x in shp])"
   ]
  },
  {
   "cell_type": "code",
   "execution_count": null,
   "metadata": {},
   "outputs": [],
   "source": [
    "max([ x for x in list(zip(shp, files))])"
   ]
  },
  {
   "cell_type": "code",
   "execution_count": 71,
   "metadata": {},
   "outputs": [],
   "source": [
    "normal = [ x for x in list(zip(shp, files)) if x[0] <10000]"
   ]
  },
  {
   "cell_type": "code",
   "execution_count": 92,
   "metadata": {},
   "outputs": [],
   "source": [
    "max_pad = max([x[0] for x in normal])"
   ]
  },
  {
   "cell_type": "code",
   "execution_count": 114,
   "metadata": {},
   "outputs": [],
   "source": [
    "max_pad = 44000"
   ]
  },
  {
   "cell_type": "code",
   "execution_count": 27,
   "metadata": {},
   "outputs": [],
   "source": [
    "class DataGenerator(keras.utils.Sequence):\n",
    "    'Generates data for Keras Sequence dataset'\n",
    "    \n",
    "    def __init__(self, files, tokenizer, batch_size=16, maxlen=5e5, n_classes=30, shuffle=True):\n",
    "        'Initialize class'\n",
    "        \n",
    "        self.batch_size = batch_size\n",
    "        \n",
    "        # labels\n",
    "        self.file_to_label = {x:re.findall(r'\\./(.*)/(.*)$', x)[0][0] for x in files}\n",
    "        \n",
    "        # files\n",
    "        self.files = files\n",
    "        \n",
    "        # params\n",
    "        self.tokenizer = tokenizer\n",
    "        self.maxlen = int(maxlen)\n",
    "        self.n_classes = n_classes\n",
    "        self.shuffle = shuffle\n",
    "        self.samples = len(files)\n",
    "        \n",
    "\n",
    "    def __len__(self):\n",
    "        'Returns the number of batches per epoch'\n",
    "        return math.floor(self.samples/ self.batch_size)\n",
    "    \n",
    "\n",
    "    def __getitem__(self, index):\n",
    "        'Generate one batch of data'\n",
    "        # Generate indexes of the batch\n",
    "        files = [self.files[random.randint(0, len(self.files)-1)] for x in range(self.batch_size)]\n",
    "        X, y = self.__data_generation(files)\n",
    "\n",
    "        return X, y\n",
    "\n",
    "\n",
    "    def __data_generation(self, files):\n",
    "        'Generates data containing batch_size samples' \n",
    "        \n",
    "        kernel_size=(256,43,1)\n",
    "        X = np.empty((self.batch_size, 256, 43, 1), dtype=np.ndarray)\n",
    "        y = np.empty((self.batch_size), dtype=object)\n",
    "\n",
    "        # Generate data\n",
    "        for i, file in enumerate(files):\n",
    "            # load mfcc\n",
    "            data = melspec(file)\n",
    "            \n",
    "            data = np.concatenate( (data, np.zeros(11008 - len(data))), axis=0)\n",
    "            \n",
    "            X[i,] = data.reshape(kernel_size)\n",
    "\n",
    "            # Store class\n",
    "            y[i] = self.file_to_label[file]\n",
    "            # print(y)\n",
    "\n",
    "        return X, tokenizer.texts_to_matrix(y)"
   ]
  },
  {
   "cell_type": "code",
   "execution_count": 28,
   "metadata": {},
   "outputs": [],
   "source": [
    "train = DataGenerator(X_train, tokenizer, batch_size=16, shuffle=True)\n",
    "test = DataGenerator(X_test, tokenizer, batch_size=16, shuffle=False)"
   ]
  },
  {
   "cell_type": "code",
   "execution_count": 29,
   "metadata": {},
   "outputs": [
    {
     "data": {
      "text/plain": [
       "(3842, 202)"
      ]
     },
     "execution_count": 29,
     "metadata": {},
     "output_type": "execute_result"
    }
   ],
   "source": [
    "len(train), len(test)"
   ]
  },
  {
   "cell_type": "code",
   "execution_count": 30,
   "metadata": {},
   "outputs": [],
   "source": [
    "classes = 30"
   ]
  },
  {
   "cell_type": "code",
   "execution_count": 31,
   "metadata": {},
   "outputs": [
    {
     "name": "stdout",
     "output_type": "stream",
     "text": [
      "_________________________________________________________________\n",
      "Layer (type)                 Output Shape              Param #   \n",
      "=================================================================\n",
      "conv2d_11 (Conv2D)           (None, 256, 43, 30)       150       \n",
      "_________________________________________________________________\n",
      "conv2d_12 (Conv2D)           (None, 256, 43, 30)       3630      \n",
      "_________________________________________________________________\n",
      "maxpooling2d_1 (MaxPooling2D (None, 128, 21, 30)       0         \n",
      "_________________________________________________________________\n",
      "dropout_1 (Dropout)          (None, 128, 21, 30)       0         \n",
      "_________________________________________________________________\n",
      "flatten (Flatten)            (None, 80640)             0         \n",
      "_________________________________________________________________\n",
      "dense_1 (Dense)              (None, 4096)              330305536 \n",
      "_________________________________________________________________\n",
      "dense_sm (Dense)             (None, 30)                122910    \n",
      "=================================================================\n",
      "Total params: 330,432,226\n",
      "Trainable params: 330,432,226\n",
      "Non-trainable params: 0\n",
      "_________________________________________________________________\n",
      "None\n"
     ]
    }
   ],
   "source": [
    "model = Sequential()\n",
    "# Embedding\n",
    "# model.add(Dense(900, input_dim=max_review_length, activation='softmax', name=\"dense_input\"))\n",
    "\n",
    "# Level 1\n",
    "model.add(Conv2D(input_shape=(256,43,1), filters=30,  kernel_size=(2, 2), padding='same', activation='relu', name=\"conv2d_11\"))\n",
    "model.add(Conv2D(filters=30,  kernel_size=(2, 2), padding='same', activation='relu', name=\"conv2d_12\"))\n",
    "model.add(MaxPooling2D(pool_size=(2,2), name=\"maxpooling2d_1\"))\n",
    "model.add(Dropout(0.1, name=\"dropout_1\"))\n",
    "\n",
    "\"\"\"\n",
    "model.add(Conv2D(filters=30,  kernel_size=(2, 2), padding='same', activation='relu', name=\"conv2d_21\"))\n",
    "model.add(Conv2D(filters=30,  kernel_size=(2, 2), padding='same', activation='relu', name=\"conv1d_22\"))\n",
    "model.add(MaxPooling2D(pool_size=(2,2), name=\"maxpooling2d_2\"))\n",
    "model.add(Dropout(0.1, name=\"dropout_2\"))\n",
    "\n",
    "model.add(Conv2D(filters=30,  kernel_size=(2, 2), padding='same', activation='relu', name=\"conv2d_31\"))\n",
    "model.add(Conv2D(filters=30,  kernel_size=(2, 2), padding='same', activation='relu', name=\"conv2d_32\"))\n",
    "model.add(MaxPooling2D(pool_size=(2,2), name=\"maxpooling2d_3\"))\n",
    "model.add(Dropout(0.1, name=\"dropout_3\"))\n",
    "\"\"\"\n",
    "model.add(Flatten(name=\"flatten\"))\n",
    "model.add(Dense(4096))\n",
    "# model.add(Dense(512))\n",
    "# model.add(Dense(256))\n",
    "\n",
    "model.add(Dense(classes, activation='softmax', name=\"dense_sm\"))\n",
    "\n",
    "# sgd = optimizers.SGD(lr=0.01, decay=1e-6, momentum=0.9, nesterov=True)\n",
    "sgd = optimizers.SGD(lr=0.01, clipnorm=1.)\n",
    "model.compile(loss='binary_crossentropy', optimizer=sgd, metrics=['accuracy'])\n",
    "print(model.summary())"
   ]
  },
  {
   "cell_type": "code",
   "execution_count": 33,
   "metadata": {},
   "outputs": [],
   "source": [
    "from keras.models import load_model"
   ]
  },
  {
   "cell_type": "code",
   "execution_count": 34,
   "metadata": {},
   "outputs": [],
   "source": [
    "model = load_model(\"/notebooks/data/wr_11e_30.h5\")"
   ]
  },
  {
   "cell_type": "code",
   "execution_count": 36,
   "metadata": {},
   "outputs": [],
   "source": [
    "model.save_weights(\"/notebooks/data/weights_11e_30.h5\")"
   ]
  },
  {
   "cell_type": "code",
   "execution_count": 37,
   "metadata": {
    "scrolled": true
   },
   "outputs": [],
   "source": [
    "model.load_weights(\"/notebooks/data/weights_11e_30.h5\")"
   ]
  },
  {
   "cell_type": "code",
   "execution_count": 208,
   "metadata": {},
   "outputs": [
    {
     "name": "stdout",
     "output_type": "stream",
     "text": [
      "Epoch 1/1\n",
      "100/100 [==============================] - 254s 3s/step - loss: 0.2763 - acc: 0.9576 - val_loss: 0.2542 - val_acc: 0.9586\n"
     ]
    },
    {
     "data": {
      "text/plain": [
       "<keras.callbacks.History at 0x7f2f32bb40b8>"
      ]
     },
     "execution_count": 208,
     "metadata": {},
     "output_type": "execute_result"
    }
   ],
   "source": [
    "model.fit_generator(generator=train, steps_per_epoch=100, epochs=1, validation_data=test)"
   ]
  },
  {
   "cell_type": "code",
   "execution_count": null,
   "metadata": {
    "scrolled": false
   },
   "outputs": [
    {
     "name": "stdout",
     "output_type": "stream",
     "text": [
      "Epoch 1/100\n",
      "100/100 [==============================] - 257s 3s/step - loss: 0.1344 - acc: 0.9674 - val_loss: 0.1349 - val_acc: 0.9670\n",
      "Epoch 2/100\n",
      " 99/100 [============================>.] - ETA: 0s - loss: 0.1323 - acc: 0.9674"
     ]
    }
   ],
   "source": [
    "model.fit_generator(generator=train, steps_per_epoch=100, epochs=100, validation_data=test)"
   ]
  },
  {
   "cell_type": "code",
   "execution_count": 71,
   "metadata": {},
   "outputs": [],
   "source": [
    "model.save(\"/opt/data/wr_51e_30.h5\")"
   ]
  },
  {
   "cell_type": "code",
   "execution_count": 66,
   "metadata": {},
   "outputs": [],
   "source": [
    "pickle.dump(tokenizer, open(\"/opt/data/tokenizer_30.pkl\", \"wb\"))"
   ]
  },
  {
   "cell_type": "code",
   "execution_count": null,
   "metadata": {},
   "outputs": [],
   "source": []
  },
  {
   "cell_type": "code",
   "execution_count": 199,
   "metadata": {},
   "outputs": [],
   "source": [
    "def predict(file, maxlen):\n",
    "    data = melspec(file)\n",
    "            \n",
    "    data = np.concatenate( (data, np.zeros(11008 - len(data))), axis=0)\n",
    "\n",
    "    res = data.reshape(256,43,1)\n",
    "\n",
    "    pred = model.predict(np.asarray([res]))\n",
    "    return np.argmax(pred), np.amax(pred)"
   ]
  },
  {
   "cell_type": "code",
   "execution_count": 271,
   "metadata": {},
   "outputs": [],
   "source": [
    "index_word = {tokenizer.word_index[key]:key for key in tokenizer.word_index}"
   ]
  },
  {
   "cell_type": "code",
   "execution_count": 272,
   "metadata": {},
   "outputs": [
    {
     "data": {
      "text/plain": [
       "('dog', 0.99999917)"
      ]
     },
     "execution_count": 272,
     "metadata": {},
     "output_type": "execute_result"
    }
   ],
   "source": [
    "class_id, acc = predict(\"./bird/00b01445_nohash_0.wav\", max_review_length)\n",
    "index_word[class_id], acc"
   ]
  },
  {
   "cell_type": "code",
   "execution_count": null,
   "metadata": {},
   "outputs": [],
   "source": []
  },
  {
   "cell_type": "code",
   "execution_count": 52,
   "metadata": {},
   "outputs": [],
   "source": [
    "from sklearn.metrics import confusion_matrix\n",
    "from sklearn.metrics import accuracy_score\n",
    "import matplotlib.pyplot as plt\n",
    "import itertools"
   ]
  },
  {
   "cell_type": "code",
   "execution_count": 50,
   "metadata": {},
   "outputs": [],
   "source": [
    "def plot_confusion_matrix(cm, classes,\n",
    "                          normalize=False,\n",
    "                          title='Confusion matrix',\n",
    "                          cmap=plt.cm.Blues):\n",
    "    \"\"\"\n",
    "    This function prints and plots the confusion matrix.\n",
    "    Normalization can be applied by setting `normalize=True`.\n",
    "    \"\"\"\n",
    "    if normalize:\n",
    "        cm = cm.astype('float') / cm.sum(axis=1)[:, np.newaxis]\n",
    "        print(\"Normalized confusion matrix\")\n",
    "    else:\n",
    "        print('Confusion matrix, without normalization')\n",
    "\n",
    "    print(cm)\n",
    "    \n",
    "    plt.figure(figsize=(10,10))\n",
    "    plt.imshow(cm, interpolation='nearest', cmap=cmap)\n",
    "    plt.title(title)\n",
    "    plt.colorbar()\n",
    "    tick_marks = np.arange(len(classes))\n",
    "    plt.xticks(tick_marks, classes, rotation=45)\n",
    "    plt.yticks(tick_marks, classes)\n",
    "\n",
    "    fmt = '.2f' if normalize else 'd'\n",
    "    thresh = cm.max() / 2.\n",
    "    for i, j in itertools.product(range(cm.shape[0]), range(cm.shape[1])):\n",
    "        plt.text(j, i, format(cm[i, j], fmt),\n",
    "                 horizontalalignment=\"center\",\n",
    "                 color=\"white\" if cm[i, j] > thresh else \"black\")\n",
    "\n",
    "    plt.tight_layout()\n",
    "    plt.ylabel('True label')\n",
    "    plt.xlabel('Predicted label')"
   ]
  },
  {
   "cell_type": "code",
   "execution_count": 44,
   "metadata": {},
   "outputs": [],
   "source": [
    "def data_generation(files, batch_size):\n",
    "        'Generates data containing batch_size samples' \n",
    "        \n",
    "        kernel_size=(256,43,1)\n",
    "        X = np.empty((batch_size, 256, 43, 1), dtype=np.ndarray)\n",
    "        y = np.empty((batch_size), dtype=object)\n",
    "\n",
    "        # Generate data\n",
    "        for i, file in enumerate(files):\n",
    "            # load mfcc\n",
    "            data = melspec(file)\n",
    "            \n",
    "            data = np.concatenate( (data, np.zeros(11008 - len(data))), axis=0)\n",
    "            \n",
    "            X[i,] = data.reshape(kernel_size)\n",
    "\n",
    "            # Store class\n",
    "            y[i] = file_to_label[file]\n",
    "            # print(y)\n",
    "\n",
    "        return X, tokenizer.texts_to_matrix(y)"
   ]
  },
  {
   "cell_type": "code",
   "execution_count": 41,
   "metadata": {},
   "outputs": [],
   "source": [
    "file_to_label = {x:re.findall(r'\\./(.*)/(.*)$', x)[0][0] for x in files}"
   ]
  },
  {
   "cell_type": "code",
   "execution_count": 58,
   "metadata": {},
   "outputs": [],
   "source": [
    "ff=files[:5000]"
   ]
  },
  {
   "cell_type": "code",
   "execution_count": 63,
   "metadata": {},
   "outputs": [],
   "source": [
    "y_test = [tokenizer.word_index[file_to_label[x]] for x in ff]"
   ]
  },
  {
   "cell_type": "code",
   "execution_count": 60,
   "metadata": {},
   "outputs": [],
   "source": [
    "X_test, y_test = data_generation(ff, len(ff))"
   ]
  },
  {
   "cell_type": "code",
   "execution_count": 68,
   "metadata": {},
   "outputs": [],
   "source": [
    "pp = model.predict(X_test)"
   ]
  },
  {
   "cell_type": "code",
   "execution_count": 69,
   "metadata": {},
   "outputs": [],
   "source": [
    "y_pred = [np.argmax(x) for x in pp]"
   ]
  },
  {
   "cell_type": "code",
   "execution_count": 70,
   "metadata": {
    "scrolled": false
   },
   "outputs": [
    {
     "name": "stdout",
     "output_type": "stream",
     "text": [
      "Confusion matrix, without normalization\n",
      "[[ 42   0   0  23   1   5   1   3   5   1   0   4   0   0   0  10   1   0\n",
      "    1   0   2  13  22  17  21   0   0   1   1   0]\n",
      " [  0  15   0   2   1   3   0   0   5   2   6   4   0   4   2   2   5   1\n",
      "    2   8   0  14  24  14   3   2   1   7   1   0]\n",
      " [  6   0   1  22   0   0   1   1   3   0   4   1   0   0   0   5   2   1\n",
      "    3   0   4  10  33   9  12   1   0   4   1   0]\n",
      " [ 11   0   1  69   0   0   2   2   2   0   1   2   0   0   0  14   4   0\n",
      "    3   0   0   6  49   5  24   1   0   1   0   0]\n",
      " [  3   2   0   8  11   7   0   2   0   0   6   5   0   1   3   1   9   1\n",
      "    3   4   1  14  28  20   0   0   2   4   2   0]\n",
      " [ 10   0   0  10   0  37   0   0   0   1   1   1   0   1   0   5   0   0\n",
      "    6   0   6   5  21   8  13   0   3   1   1   0]\n",
      " [  8   0   1  17   0   2  14   0   3   0   0   0   1   0   0   9   1   0\n",
      "    0   1   0   8  23   0  41   0   0   0   0   0]\n",
      " [  5   2   0  18   5   1   1  21   2   1   6  14   0   0   4   2  11   0\n",
      "    3   1   3   6  41  19   6   0   0   2   3   0]\n",
      " [  4   4   0   2   0   2   1   0  51   1   4   3   0   7   1   0   1   0\n",
      "    0  11   0  44  21  17   6   4   0   2   5   0]\n",
      " [  2   3   0   1   1   2   0   3   2  13  10   1   1   7   2   0   1   1\n",
      "    6  12   5  24  20  15   3   4   2   6   5   0]\n",
      " [  0   2   0   2   0   0   0   4   1   2  47   4   2   6   3   1   6   6\n",
      "    2  19   2   0  28  17   1   3   1  24   3   0]\n",
      " [  3   7   0   9   2   3   0   6   5   1   9  21   0   3   8   0   7   1\n",
      "    2   8   1  13  38  27   2   2   0  12   8   0]\n",
      " [  2   1   0   4   6   2   0   3   9   3   4   3   6   7   0   0   2   1\n",
      "    0  14   1  25  16  17   2   6   4   4   8   0]\n",
      " [  2   0   0   1   1   0   0   0   4   3  19   2   1  22   3   0   2   2\n",
      "    4  24   1   7  11  16   1   5   5   4   0   0]\n",
      " [  0   9   0   0   1   3   0   1   3   0  17   5   0   2  16   0   4   0\n",
      "    1   8   0   7  19  14   0   1   0   8   6   0]\n",
      " [  5   0   0  34   0   1   2   1   4   0   0   1   0   0   0  39   1   0\n",
      "    1   0   1   1  32   0  27   1   0   0   0   0]\n",
      " [  5   2   0  14   1   1   1   7   1   0   7  14   0   1   3   3  27   0\n",
      "    0   2   1  15  34  16   6   0   0   2   5   0]\n",
      " [  0   3   0   3   0   0   0   0   7   3  18   6   1   6   2   0   1   4\n",
      "    0  19   2   4  16  12   0   3   1  22   0   0]\n",
      " [ 10   0   0  27   2   1   0   0   0   2   4   3   0   0   0   3   5   1\n",
      "   54   0   7  11  21  13   7   1   2   3   0   0]\n",
      " [  0   2   0   2   2   0   0   2   5   3  16   4   2  12   0   0   1   2\n",
      "    2  28   1  12  18  18   1   9   2  19   6   0]\n",
      " [ 16   0   0  10   4   5   0   1   1   0   7   4   0   0   0   5   4   0\n",
      "   14   0  16  11  33  23   4   1   4   2   3   0]\n",
      " [ 10   2   1   7   0   2   0   3  13   5   4   6   0   1   0   1   3   0\n",
      "    7   8   3  55  22  16   6   7   1   3   1   0]\n",
      " [  1   0   0  16   3   0   3  14   0   0   3   1   0   0   0   7   9   0\n",
      "    3   0   1   4 112   7   6   0   0   0   3   0]\n",
      " [  3   2   0  12   2   2   0   3   3   0   7   7   0   1   3   2   6   0\n",
      "    5   4   2  15  34  56   2   0   3   5   3   0]\n",
      " [ 17   2   0  23   1   3   9   1   1   1   0   0   0   0   0  28   2   1\n",
      "    2   0   0   4  32   4  70   0   0   0   1   0]\n",
      " [  0   7   0   2   2   1   0   0   8  11  11   2   1  13   0   0   1   2\n",
      "    3  23   1  30  13  15   1  32   4   8   5   0]\n",
      " [  1   1   0   1   2   1   0   4   1   4  16   1   0   5   0   1   5   2\n",
      "    1  19   4  23  16  14   0   5   7   5   4   0]\n",
      " [  0   6   0   4   0   0   0   3   2   3  32   6   0   7   4   0   6   5\n",
      "    1  16   1   3  20  20   0   1   5  52   1   0]\n",
      " [  1   1   0   6   1   1   0   1   8   5   7   6   1   6   5   0   4   0\n",
      "    1   6   2  31  22  37   5   2   2   2  23   0]\n",
      " [  0   5   0   1   5   0   0   0   0   2  29  10   0  15   6   1   4   6\n",
      "    5  26   1   7  21  12   1  19  10  22   1   0]]\n"
     ]
    },
    {
     "data": {
      "image/png": "[encoded data removed]",
      "text/plain": [
       "<Figure size 720x720 with 2 Axes>"
      ]
     },
     "metadata": {
      "needs_background": "light"
     },
     "output_type": "display_data"
    }
   ],
   "source": [
    "plot_confusion_matrix(confusion_matrix(y_test, y_pred), labels)"
   ]
  },
  {
   "cell_type": "code",
   "execution_count": 297,
   "metadata": {},
   "outputs": [
    {
     "data": {
      "text/plain": [
       "(100, 100)"
      ]
     },
     "execution_count": 297,
     "metadata": {},
     "output_type": "execute_result"
    }
   ],
   "source": [
    "len(y_test), len(y_pred)"
   ]
  },
  {
   "cell_type": "code",
   "execution_count": null,
   "metadata": {},
   "outputs": [],
   "source": []
  },
  {
   "cell_type": "code",
   "execution_count": null,
   "metadata": {},
   "outputs": [],
   "source": []
  },
  {
   "cell_type": "code",
   "execution_count": null,
   "metadata": {},
   "outputs": [],
   "source": []
  },
  {
   "cell_type": "code",
   "execution_count": null,
   "metadata": {},
   "outputs": [],
   "source": []
  },
  {
   "cell_type": "code",
   "execution_count": null,
   "metadata": {},
   "outputs": [],
   "source": []
  }
 ],
 "metadata": {
  "kernelspec": {
   "display_name": "Python 3",
   "language": "python",
   "name": "python3"
  },
  "language_info": {
   "codemirror_mode": {
    "name": "ipython",
    "version": 3
   },
   "file_extension": ".py",
   "mimetype": "text/x-python",
   "name": "python",
   "nbconvert_exporter": "python",
   "pygments_lexer": "ipython3",
   "version": "3.5.2"
  }
 },
 "nbformat": 4,
 "nbformat_minor": 2
}
